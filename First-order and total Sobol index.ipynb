{
 "cells": [
  {
   "cell_type": "markdown",
   "id": "ac9e7d04-ec8f-4260-b219-0e15d2ce6e5e",
   "metadata": {},
   "source": [
    "# First-order and total Sobol index"
   ]
  },
  {
   "cell_type": "code",
   "execution_count": 5,
   "id": "04847741-8c91-41f2-92c4-a033aa4f6df9",
   "metadata": {},
   "outputs": [],
   "source": [
    "import numpy as np\n",
    "import matplotlib.pyplot as plt\n",
    "from SALib.sample import saltelli\n",
    "from SALib.analyze import sobol\n",
    "from matplotlib.ticker import ScalarFormatter\n",
    "import seaborn as sns\n",
    "import fullmodel_v1_7\n",
    "import pandas as pd\n",
    "from Extract_data import extractData\n",
    "from scipy.optimize import curve_fit\n",
    "import matplotlib.cm as cm\n",
    "from matplotlib.ticker import MaxNLocator\n",
    "from datetime import datetime, timedelta\n",
    "from multiprocess import Pool, cpu_count"
   ]
  },
  {
   "cell_type": "code",
   "execution_count": 6,
   "id": "ee0073ea-4c39-44cc-aeab-28d1e003b70f",
   "metadata": {},
   "outputs": [],
   "source": [
    "def model_Sobol_index(z_m,\n",
    "                      d_E,\n",
    "                      z_mK_bg,\n",
    "                      p_in,\n",
    "                      P_0,\n",
    "                      Temp):\n",
    "\n",
    "    import numpy as np\n",
    "    import fullmodel_v1_7\n",
    "    import pandas as pd\n",
    "    from Extract_data import extractData\n",
    "    from scipy.optimize import curve_fit\n",
    "    # Initial conditions\n",
    "    M_0 = 0\n",
    "    A_0 = 0.5\n",
    "    B_0 = 0.004  # 0.004\n",
    "    Q_B_0 = 0.01\n",
    "    Q_A_0 = 0.01\n",
    "    P_0 = P_0  # 10\n",
    "    D_0 = 0.0239  # 0.0239\n",
    "    Y_0 = 0.025\n",
    "    W_0 = 0.02\n",
    "    O_0 = 7\n",
    "    v_A_0 = 0\n",
    "    v_D_0 = 0\n",
    "    v_Y_0 = 0\n",
    "    v_W_0 = 0\n",
    "    \n",
    "    \n",
    "    model_CyB = fullmodel_v1_7.modelCyB()\n",
    "    \n",
    "    initial_conditions = [M_0, B_0, A_0,\n",
    "                          Q_B_0,\n",
    "                          Q_A_0, P_0,\n",
    "                          D_0,\n",
    "                          Y_0, W_0,\n",
    "                          v_A_0, v_D_0,\n",
    "                          v_Y_0, v_W_0, O_0]\n",
    "\n",
    "    # Data\n",
    "    year = \"2021\"\n",
    "    data = pd.read_excel(\"all-bloom-indicators.xlsx\")\n",
    "    \n",
    "    lake_name = \"Pigeon Lake\"\n",
    "    \n",
    "    data = data[data[\"Waterbody name\"] == lake_name]\n",
    "    \n",
    "    data_fit = extractData(data, year)\n",
    "    \n",
    "    \n",
    "    t_data = data_fit[\"days\"].values\n",
    "    \n",
    "    \n",
    "        \n",
    "    def read_params():\n",
    "        import fullmodel_v1_7\n",
    "        model_CyB = fullmodel_v1_7.modelCyB()\n",
    "        model_CyB.initial = initial_conditions\n",
    "        name_data_param = \"fitting_parameters_full_variables_v1\"\n",
    "        coment = \"_v1_7_\"\n",
    "        name_data = './New data/'+lake_name + '/' \\\n",
    "            + name_data_param + year + lake_name+coment \\\n",
    "            + \"_final\" + \".csv\"\n",
    "    \n",
    "        params_fit = pd.read_csv(name_data)\n",
    "    \n",
    "        # params_fit = pd.read_csv(\n",
    "        #     \"fitting_parameters_full_variables_v12021Pine Lake_v2__final.csv\")\n",
    "        unknow_params = [\"e_BD\", \"alpha_B\", \"alpha_D\",\n",
    "                         \"alpha_Y\",\n",
    "                         \"tau_B\", \"tau_D\", \"tau_Y\",\n",
    "                         \"a_A\", \"a_D\", \"sigma_A\",\n",
    "                         \"sigma_D\", \"x_A\", \"x_D\"]\n",
    "    \n",
    "        model_CyB.initial[1] = params_fit[\"B_0\"][0]\n",
    "        model_CyB.initial[2] = params_fit[\"A_0\"][0]\n",
    "        model_CyB.initial[6] = params_fit[\"D_0\"][0]\n",
    "    \n",
    "        for name in unknow_params:\n",
    "            model_CyB.params[name] = params_fit[name][0]\n",
    "    \n",
    "        # Death Daphnia\n",
    "        model_CyB.params['n_D'] = 0.0623\n",
    "        model_CyB.params['e_BD'] = 0.8\n",
    "        model_CyB.params[\"tau_B\"] = 1.23\n",
    "        model_CyB.params[\"alpha_B\"] = 0.0035\n",
    "        # model_CyB.params[\"tau_Y\"] = 1.23\n",
    "        # # model_CyB.params[\"tau_D\"] = 0.01\n",
    "        # model_CyB.params[\"alpha_D\"] = 0.003941\n",
    "        # model_CyB.params['phi_D'] = 700\n",
    "        # model_CyB.params['phi_Y'] = 700\n",
    "    \n",
    "        model_CyB.params['r_Y'] = 2\n",
    "        model_CyB.params['r_W'] = 1\n",
    "        model_CyB.params['Ext_Y'] = 0.025*13\n",
    "        model_CyB.params['Ext_W'] = 0.025\n",
    "        # model_CyB.params['p_in'] = 0.15*2\n",
    "    \n",
    "        # With Toxine\n",
    "        model_CyB.toxines = True and (model_CyB.initial[1] > 0)\n",
    "        # New time scale\n",
    "        # days_before = 15\n",
    "    \n",
    "        # days_after = 60\n",
    "    \n",
    "        model_CyB.t_0 = 0\n",
    "    \n",
    "        # model_CyB.t_f = t_data.max()-t_data.min() + days_after\n",
    "    \n",
    "        model_CyB.t_f = 365\n",
    "    \n",
    "        model_CyB.delta_t = model_CyB.t_f*3\n",
    "    \n",
    "        model_CyB.set_linetime()\n",
    "    \n",
    "        t_data = data_fit[\"days\"].values\n",
    "    \n",
    "        # Temperature\n",
    "    \n",
    "        model_CyB.max_temp_time = 197.3989-20\n",
    "        # model_CyB.max_temp = 25.9\n",
    "        # model_CyB.freq_temp = -0.0172\n",
    "        # model_CyB.init_temp = t_data.min()\n",
    "    \n",
    "        # New time\n",
    "        # t_data = t_data-t_data.min() + days_before\n",
    "        return model_CyB\n",
    "\n",
    "\n",
    "    def Change_Temp(model_CyB, Temp):\n",
    "        import copy\n",
    "        from scipy.optimize import curve_fit\n",
    "        import numpy as np\n",
    "        if Temp != 0:\n",
    "            # Data Temperature\n",
    "            days_temp = np.array(\n",
    "                [0, 31, 59, 90, 120, 151, 181, 212, 243, 273, 304, 334])\n",
    "            temp_water = np.array(\n",
    "                [7.35, 7.3, 7.91, 9.4, 11.67, 13.59, 15.49, 16.02, 14.08, 11.29, 9.26, 8.07])\n",
    "    \n",
    "            delta_temp = Temp\n",
    "    \n",
    "            for i in range(temp_water.shape[0]):\n",
    "                if temp_water[i] > 11:\n",
    "                    temp_water[i] = temp_water[i] + delta_temp\n",
    "    \n",
    "            # Define the logistic function\n",
    "            def temperature(t, K, T, t_0, k_0):\n",
    "                return K*np.exp(-T*(t-t_0)**2)+k_0\n",
    "    \n",
    "            # Set bounds for positive values\n",
    "            bounds = ([0, 0, 0, 0], [np.inf, np.inf, np.inf, np.inf])\n",
    "    \n",
    "            # Fit the logistic function to the data\n",
    "            initial_guess = [15, 0, 200, 7]\n",
    "            params, covariance = curve_fit(temperature,\n",
    "                                           days_temp,\n",
    "                                           temp_water,\n",
    "                                           p0=initial_guess,\n",
    "                                           bounds=bounds)\n",
    "    \n",
    "            model_CyB.max_temp = round(params[0], 5)\n",
    "            model_CyB.min_temp = round(params[3], 5)\n",
    "            model_CyB.max_temp_time = round(params[2]-20, 5)\n",
    "            model_CyB.T = round(params[1], 5)\n",
    "            return model_CyB\n",
    "    \n",
    "    model_CyB = read_params()\n",
    "    model_CyB.params['z_m'] = z_m\n",
    "\n",
    "    model_CyB.params['z_mk_A'] = (z_m*0.0004)*1000\n",
    "    model_CyB.params['z_mk_B'] = (z_m*0.0004)*1000\n",
    "    model_CyB.params['z_mK_bg'] = (z_m*z_mK_bg)\n",
    "\n",
    "    model_CyB.params['d_E'] = d_E\n",
    "    model_CyB.params['z_mK_bg'] = z_mK_bg*z_m\n",
    "    model_CyB.params['p_in'] = p_in\n",
    "    model_CyB.initial[5] = P_0\n",
    "    print(model_CyB.initial[5])\n",
    "\n",
    "    model_CyB = Change_Temp(model_CyB, Temp)\n",
    "    solution, info = model_CyB.solver()\n",
    "    M_values, B_values, A_values, \\\n",
    "        Q_B_values, Q_A_values, P_values, \\\n",
    "        D_values, Y_values, W_values, \\\n",
    "        v_A_values, v_D_values, v_Y_values, \\\n",
    "        v_W_values, O_values = solution.T\n",
    "\n",
    "    return B_values"
   ]
  },
  {
   "cell_type": "code",
   "execution_count": 7,
   "id": "80283567-b575-4058-bbf0-4f6bc516dccc",
   "metadata": {},
   "outputs": [
    {
     "name": "stderr",
     "output_type": "stream",
     "text": [
      "C:\\Users\\brian\\AppData\\Local\\Temp\\ipykernel_7536\\3078115119.py:12: DeprecationWarning: `salib.sample.saltelli` will be removed in SALib 1.5. Please use `salib.sample.sobol`\n",
      "  param_values = saltelli.sample(problem, 2**10)\n"
     ]
    }
   ],
   "source": [
    "problem = {\n",
    "    'num_vars': 6,\n",
    "    'names': ['z_m', 'd_E', 'z_mK_bg', 'p_in', 'P_0', 'Temp'],\n",
    "    'bounds': [[1, 10], \n",
    "               [0.02, 0.08], \n",
    "               [0.3, 1.0], \n",
    "               [0.1, 0.7], \n",
    "               [0.1, 0.7], \n",
    "               [0, 3.4]]\n",
    "}\n",
    "# sample\n",
    "param_values = saltelli.sample(problem, 2**10)\n"
   ]
  },
  {
   "cell_type": "code",
   "execution_count": 8,
   "id": "164b653a-c485-4f55-ab48-58c1250e40b6",
   "metadata": {},
   "outputs": [
    {
     "data": {
      "text/plain": [
       "((14336, 6), 14336)"
      ]
     },
     "execution_count": 8,
     "metadata": {},
     "output_type": "execute_result"
    }
   ],
   "source": [
    "param_values.shape, (6*2+2)*2**10"
   ]
  },
  {
   "cell_type": "code",
   "execution_count": 9,
   "id": "de931844-adce-4933-a96b-9f242ea141d3",
   "metadata": {},
   "outputs": [],
   "source": [
    "# # Evaluate\n",
    "# with Pool() as p:\n",
    "#     y = np.array(p.map(model_Sobol_index, param_values))"
   ]
  },
  {
   "cell_type": "code",
   "execution_count": 10,
   "id": "fe58ad6f-4035-4a63-967f-003d922c57ff",
   "metadata": {},
   "outputs": [],
   "source": [
    "Yis = []\n",
    "NUM_PROCESSES = 6\n",
    "pool = Pool(NUM_PROCESSES)\n",
    "for i in range(param_values.shape[0]):\n",
    "    Yi = pool.apply_async(model_Sobol_index, param_values[i,:])\n",
    "    Yis.append(Yi)\n",
    "\n",
    "results = np.array([Yi.get() for Yi in Yis])\n"
   ]
  },
  {
   "cell_type": "code",
   "execution_count": 11,
   "id": "f79e1ffe-9542-410c-8735-27817215d6a7",
   "metadata": {},
   "outputs": [
    {
     "data": {
      "text/plain": [
       "(14336, 1095)"
      ]
     },
     "execution_count": 11,
     "metadata": {},
     "output_type": "execute_result"
    }
   ],
   "source": [
    "results.shape"
   ]
  },
  {
   "cell_type": "code",
   "execution_count": 12,
   "id": "5814b1bf-74c4-4a3d-b985-fe0f18698e85",
   "metadata": {},
   "outputs": [
    {
     "name": "stdout",
     "output_type": "stream",
     "text": [
      "File is saved\n"
     ]
    }
   ],
   "source": [
    "# Saving\n",
    "df = pd.DataFrame(results)\n",
    "# Save the DataFrame to a CSV file\n",
    "# df.to_csv(\"Sobol_indexV2.csv\", header=False, index=False)\n",
    "# print('File is saved')"
   ]
  },
  {
   "cell_type": "code",
   "execution_count": null,
   "id": "b3b42123-3fc0-441e-8647-4788d089235f",
   "metadata": {},
   "outputs": [],
   "source": []
  }
 ],
 "metadata": {
  "kernelspec": {
   "display_name": "Python 3 (ipykernel)",
   "language": "python",
   "name": "python3"
  },
  "language_info": {
   "codemirror_mode": {
    "name": "ipython",
    "version": 3
   },
   "file_extension": ".py",
   "mimetype": "text/x-python",
   "name": "python",
   "nbconvert_exporter": "python",
   "pygments_lexer": "ipython3",
   "version": "3.11.9"
  }
 },
 "nbformat": 4,
 "nbformat_minor": 5
}
